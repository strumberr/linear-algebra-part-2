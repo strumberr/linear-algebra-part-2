{
 "cells": [
  {
   "cell_type": "code",
   "execution_count": null,
   "metadata": {},
   "outputs": [],
   "source": [
    "import numpy as np\n",
    "import json_tricks\n",
    "import matplotlib.pyplot as plt"
   ]
  },
  {
   "cell_type": "code",
   "execution_count": null,
   "metadata": {},
   "outputs": [],
   "source": [
    "### YOUR CODE HERE ###"
   ]
  },
  {
   "cell_type": "code",
   "execution_count": null,
   "metadata": {},
   "outputs": [],
   "source": [
    "def reconstruct(A, b):\n",
    "    U, s, VT = np.linalg.svd(A)\n",
    "    results = []\n",
    "    \n",
    "    n_components = len(s)\n",
    "    step = 16\n",
    "    x_recon = np.zeros(A.shape[1])\n",
    "    \n",
    "    for k in range(0, n_components, step):\n",
    "        idx = slice(k, min(k + step, n_components))\n",
    "        Uk = U[:, idx]\n",
    "        sk = s[idx]\n",
    "        VTk = VT[idx, :]\n",
    "        contribution = (VTk.T * ( (Uk.T @ b) / sk ))\n",
    "        x_recon += contribution.sum(axis=1)\n",
    "        \n",
    "        results.append(x_recon.reshape(20, 20))\n",
    "    \n",
    "    return results, U, s, VT\n"
   ]
  },
  {
   "cell_type": "code",
   "execution_count": null,
   "metadata": {},
   "outputs": [],
   "source": [
    "inputs = json_tricks.load('.inputs.json')\n",
    "\n",
    "# print(inputs)\n",
    "\n",
    "x_rec, U, s, VT = reconstruct(**inputs)\n",
    "\n",
    "json_tricks.dump(x_rec, '.answer.json')"
   ]
  },
  {
   "cell_type": "code",
   "execution_count": null,
   "metadata": {},
   "outputs": [],
   "source": [
    "# Visualization of rays\n",
    "plt.imshow(A[20, :].reshape([20, 20]))"
   ]
  },
  {
   "cell_type": "code",
   "execution_count": null,
   "metadata": {},
   "outputs": [],
   "source": [
    "results = []\n",
    "for index in range(len(x_rec)):\n",
    "    results.append(x_rec[index].reshape([20, 20]))\n",
    "\n",
    "results_2 = []\n",
    "for index in range(5):\n",
    "    results_2.append(np.concatenate(results[index::5], axis=0))\n",
    "\n",
    "results = np.concatenate(results_2, axis=1)\n",
    "results = (results - results.min()) / (results.max() - results.min()) * 255\n",
    "\n",
    "import PIL\n",
    "PIL.Image.fromarray(results.astype(\"uint8\")).resize([512, 512])\n"
   ]
  },
  {
   "cell_type": "code",
   "execution_count": null,
   "metadata": {},
   "outputs": [],
   "source": [
    "right_hand_vectors = VT\n",
    "\n",
    "results = []\n",
    "for index in range(0, VT.shape[1]):\n",
    "    results.append(VT[index, :].reshape([20, 20]))\n",
    "\n",
    "results_2 = []\n",
    "for index in range(20):\n",
    "    results_2.append(np.concatenate(results[index::20], axis=0))\n",
    "\n",
    "results = np.concatenate(results_2, axis=1)\n",
    "results = (results - results.min()) / (results.max() - results.min()) * 255\n",
    "\n",
    "import PIL\n",
    "PIL.Image.fromarray(results.astype(\"uint8\")).resize([512, 512])"
   ]
  },
  {
   "cell_type": "code",
   "execution_count": null,
   "metadata": {},
   "outputs": [],
   "source": [
    "## YOUR EXPERIMENTS HERE"
   ]
  }
 ],
 "metadata": {
  "kernelspec": {
   "display_name": "Python 3",
   "language": "python",
   "name": "python3"
  },
  "language_info": {
   "codemirror_mode": {
    "name": "ipython",
    "version": 3
   },
   "file_extension": ".py",
   "mimetype": "text/x-python",
   "name": "python",
   "nbconvert_exporter": "python",
   "pygments_lexer": "ipython3",
   "version": "3.11.10"
  }
 },
 "nbformat": 4,
 "nbformat_minor": 2
}
