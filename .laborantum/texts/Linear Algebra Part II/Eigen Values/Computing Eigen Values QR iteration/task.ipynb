{
 "cells": [
  {
   "cell_type": "code",
   "execution_count": 1,
   "metadata": {},
   "outputs": [],
   "source": [
    "import numpy as np\n",
    "import json_tricks"
   ]
  },
  {
   "cell_type": "code",
   "execution_count": null,
   "metadata": {},
   "outputs": [
    {
     "name": "stdout",
     "output_type": "stream",
     "text": [
      "[1. 1. 2.]\n",
      "[ 1.  3. -1.]\n",
      "[0. 1. 1.]\n",
      "[[ 0.40824829  0.20739034 -0.88900089]\n",
      " [ 0.40824829  0.82956136  0.38100038]\n",
      " [ 0.81649658 -0.51847585  0.25400025]]\n"
     ]
    }
   ],
   "source": [
    "\n",
    "def qr_iteration(A):\n",
    "\n",
    "    \n",
    "    return lambdas, misfits\n",
    "    \n",
    "\n",
    "\n",
    "\n"
   ]
  },
  {
   "cell_type": "code",
   "execution_count": null,
   "metadata": {},
   "outputs": [],
   "source": [
    "from tqdm import tqdm\n",
    "\n",
    "inputs = json_tricks.load('inputs.json')\n",
    "\n",
    "results = []\n",
    "for args in tqdm(inputs):\n",
    "    res = qr_iteration(**args)\n",
    "    results.append(res)\n",
    "\n",
    "json_tricks.dump(results, '.answer.json')"
   ]
  },
  {
   "cell_type": "code",
   "execution_count": null,
   "metadata": {},
   "outputs": [],
   "source": [
    "import matplotlib.pyplot as plt\n",
    "\n",
    "for res in results[:10]:\n",
    "    misfits = res[1]\n",
    "    plt.plot(np.array(misfits))\n",
    "\n"
   ]
  }
 ],
 "metadata": {
  "kernelspec": {
   "display_name": "Python 3",
   "language": "python",
   "name": "python3"
  },
  "language_info": {
   "codemirror_mode": {
    "name": "ipython",
    "version": 3
   },
   "file_extension": ".py",
   "mimetype": "text/x-python",
   "name": "python",
   "nbconvert_exporter": "python",
   "pygments_lexer": "ipython3",
   "version": "3.11.10"
  }
 },
 "nbformat": 4,
 "nbformat_minor": 2
}
