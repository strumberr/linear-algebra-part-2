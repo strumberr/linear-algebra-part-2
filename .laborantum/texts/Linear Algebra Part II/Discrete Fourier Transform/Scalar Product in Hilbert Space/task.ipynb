{
 "cells": [
  {
   "cell_type": "code",
   "execution_count": 1,
   "metadata": {},
   "outputs": [],
   "source": [
    "import numpy as np\n",
    "import json_tricks\n",
    "import math"
   ]
  },
  {
   "cell_type": "code",
   "execution_count": null,
   "metadata": {},
   "outputs": [],
   "source": [
    "### YOUR CODE HERE ###\n",
    "\n",
    "norm_x   = math.sqrt(1/3)\n",
    "norm_x2  = math.sqrt(1/5)\n",
    "inner_x  = 1/4\n",
    "cos_x_x2 = inner_x / (norm_x * norm_x2)\n",
    "\n",
    "\n",
    "sin2_int = 0.5 - math.sin(2)/4\n",
    "cos2_int = 0.5 + math.sin(2)/4\n",
    "\n",
    "norm_sin = math.sqrt(sin2_int)\n",
    "norm_cos = math.sqrt(cos2_int)\n",
    "\n",
    "inner_sin_cos = (1 - math.cos(2)) / 4\n",
    "cos_sim_2 = inner_sin_cos / (norm_sin * norm_cos)\n",
    "\n",
    "norm_exp = math.sqrt((math.exp(2)-1)/2)\n",
    "inner_exp_sin = 0.5 * (math.e * (math.sin(1) - math.cos(1)) + 1)\n",
    "cos_sim_3 = inner_exp_sin / (norm_exp * norm_sin)\n",
    "\n",
    "\n",
    "answer = {\n",
    "    'task1': {\n",
    "        '||x||': norm_x,\n",
    "        '||x^2||': norm_x2,\n",
    "        '<x, x^2>': inner_x,\n",
    "        'cos': cos_x_x2,\n",
    "    },\n",
    "    'task2': {\n",
    "        '||sin x||': norm_sin,\n",
    "        '||cos x||': norm_cos,\n",
    "        '<sin x, cos x>': inner_sin_cos,\n",
    "        'cos': cos_sim_2,\n",
    "    },\n",
    "    'task3': {\n",
    "        '||exp x||': norm_exp,\n",
    "        '||sin x||': norm_sin,\n",
    "        '<exp x, sin x>': inner_exp_sin,\n",
    "        'cos': cos_sim_3,\n",
    "    },\n",
    "}\n",
    "\n",
    "json_tricks.dump(answer, '.answer.json')"
   ]
  }
 ],
 "metadata": {
  "kernelspec": {
   "display_name": "Python 3",
   "language": "python",
   "name": "python3"
  },
  "language_info": {
   "codemirror_mode": {
    "name": "ipython",
    "version": 3
   },
   "file_extension": ".py",
   "mimetype": "text/x-python",
   "name": "python",
   "nbconvert_exporter": "python",
   "pygments_lexer": "ipython3",
   "version": "3.11.11"
  }
 },
 "nbformat": 4,
 "nbformat_minor": 2
}
